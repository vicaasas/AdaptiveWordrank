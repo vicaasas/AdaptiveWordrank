{
 "cells": [
  {
   "cell_type": "code",
   "execution_count": 28,
   "metadata": {},
   "outputs": [
    {
     "name": "stderr",
     "output_type": "stream",
     "text": [
      "100%|██████████| 11334/11334 [01:30<00:00, 125.33it/s]\n"
     ]
    }
   ],
   "source": [
    "from torch.utils.data import Dataset\n",
    "import os\n",
    "import json\n",
    "import torch\n",
    "from transformers import AutoTokenizer\n",
    "import numpy as np\n",
    "import string\n",
    "from nltk.corpus import stopwords\n",
    "from nltk import word_tokenize,sent_tokenize\n",
    "import nltk\n",
    "from tqdm import tqdm\n",
    "from datasets import load_from_disk,load_dataset\n",
    "tok_b = AutoTokenizer.from_pretrained(\"/mnt/nas4/m11115088/WordRank/CNN_Model/GPT_final_chpt_bart\")\n",
    "tok_p = AutoTokenizer.from_pretrained(\"CNN_Model/GPT_final_chpt_pegasus\")\n",
    "# dataset = load_from_disk(\"/mnt/nas4/m11115088/WordRank/Dataset/cnndm_gpt_all\")[\"test\"]\n",
    "dataset = load_from_disk(\"/mnt/nas4/m11115088/WordRank/Dataset/xsum/xsum_test_gpt4_turbo\")[\"test\"]\n",
    "len_1_b = 0\n",
    "len_greater_1_b = 0\n",
    "len_1_p = 0\n",
    "len_greater_1_p = 0\n",
    "all_w = 0\n",
    "keyword=[]\n",
    "for data in tqdm(dataset):\n",
    "    src_txt = data[\"document\"]\n",
    "    abstract = data[\"summary\"]\n",
    "    src_txt_list = word_tokenize(src_txt)\n",
    "    src_txt_list_lower = word_tokenize(src_txt.lower())\n",
    "    for abs_stn in sent_tokenize(abstract):\n",
    "        nomal_abstract=word_tokenize(abs_stn)\n",
    "        for i,(word,tag) in enumerate(nltk.pos_tag(nomal_abstract)):\n",
    "            # if tag not in [\"CC\",\"CD\",\"DT\",\"MD\",\"IN\",\"VBZ\",\"TO\",\"WRB\",\"WP$\",\"WDT\",\"WP\",\":\"]:\n",
    "            # if \"NN\" in tag or \"VB\" in tag or \"JJ\" in tag or \"RB\" in tag or \"CD\" in tag or \"RP\" in tag:\n",
    "            if \"NN\" in tag or \"VB\" in tag or \"JJ\" in tag or \"RB\" in tag or \"CD\" in tag:\n",
    "            # if \"NN\" in tag or \"VB\" in tag or \"JJ\" in tag or \"RB\" in tag:\n",
    "            # if tag not in [\"CC\",\"CD\",\"DT\",\"MD\",\"IN\",\"VBZ\",\"TO\",\"WRB\",\"WP$\",\"WDT\",\"WP\",\":\"]:\n",
    "            # if \"NN\" in tag or \"VB\" in tag or \"JJ\" in tag:\n",
    "            # if \"NN\" in tag or \"VB\" in tag:\n",
    "                word=word.strip(string.punctuation)\n",
    "                if word !=\"\" and  word not in keyword and (word.lower() not in stopwords.words('english')+list(string.punctuation)):\n",
    "                    if word in src_txt_list:\n",
    "                        keyword.append(word)\n",
    "                    if word.lower() in src_txt_list:\n",
    "                        keyword.append(word.lower())\n",
    "                    if word.lower() in src_txt_list_lower:\n",
    "                        w_idx = src_txt_list_lower.index(word.lower())\n",
    "                        keyword.append(src_txt_list[w_idx])\n",
    "keyword = list(set(keyword))\n",
    "all_w+=len(keyword)\n",
    "for word in keyword:\n",
    "    t = tok_b.tokenize(word)\n",
    "    if len(t)==1:\n",
    "        len_1_b+=1\n",
    "    else:\n",
    "        len_greater_1_b+=1\n",
    "    t = tok_p.tokenize(word)\n",
    "    if len(t)==1:\n",
    "        len_1_p+=1\n",
    "    else:\n",
    "        len_greater_1_p+=1\n",
    "    # break"
   ]
  },
  {
   "cell_type": "code",
   "execution_count": 36,
   "metadata": {},
   "outputs": [
    {
     "data": {
      "text/plain": [
       "['inv', 'olve', 'ment']"
      ]
     },
     "execution_count": 36,
     "metadata": {},
     "output_type": "execute_result"
    }
   ],
   "source": [
    "tok_b.tokenize(\"involvement\")"
   ]
  },
  {
   "cell_type": "code",
   "execution_count": 31,
   "metadata": {},
   "outputs": [
    {
     "data": {
      "text/plain": [
       "(22924, 15137, 3724, 0.837550165765137, 0.6603123364159833)"
      ]
     },
     "execution_count": 31,
     "metadata": {},
     "output_type": "execute_result"
    }
   ],
   "source": [
    "all_w,len_1_p,len_1_b,len_1_b/all_w,len_1_p/all_w"
   ]
  }
 ],
 "metadata": {
  "kernelspec": {
   "display_name": "season",
   "language": "python",
   "name": "python3"
  },
  "language_info": {
   "codemirror_mode": {
    "name": "ipython",
    "version": 3
   },
   "file_extension": ".py",
   "mimetype": "text/x-python",
   "name": "python",
   "nbconvert_exporter": "python",
   "pygments_lexer": "ipython3",
   "version": "3.9.19"
  }
 },
 "nbformat": 4,
 "nbformat_minor": 2
}
